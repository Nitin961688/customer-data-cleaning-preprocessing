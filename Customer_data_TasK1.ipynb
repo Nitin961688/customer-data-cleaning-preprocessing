{
 "cells": [
  {
   "cell_type": "code",
   "execution_count": 21,
   "id": "9443a07a-3e82-4ee4-a16a-4c5f03c65a2d",
   "metadata": {},
   "outputs": [],
   "source": [
    "import pandas as pd\n",
    "import numpy as np\n",
    "import warnings\n",
    "warnings.filterwarnings(\"ignore\")"
   ]
  },
  {
   "cell_type": "code",
   "execution_count": 22,
   "id": "9bc98f0c-3c6f-449a-8386-9f8d975690cc",
   "metadata": {},
   "outputs": [
    {
     "data": {
      "text/html": [
       "<div>\n",
       "<style scoped>\n",
       "    .dataframe tbody tr th:only-of-type {\n",
       "        vertical-align: middle;\n",
       "    }\n",
       "\n",
       "    .dataframe tbody tr th {\n",
       "        vertical-align: top;\n",
       "    }\n",
       "\n",
       "    .dataframe thead th {\n",
       "        text-align: right;\n",
       "    }\n",
       "</style>\n",
       "<table border=\"1\" class=\"dataframe\">\n",
       "  <thead>\n",
       "    <tr style=\"text-align: right;\">\n",
       "      <th></th>\n",
       "      <th>CustomerID</th>\n",
       "      <th>Name</th>\n",
       "      <th>Age</th>\n",
       "      <th>Gender</th>\n",
       "      <th>Country</th>\n",
       "      <th>Join_Date</th>\n",
       "      <th>Purchase_Amount</th>\n",
       "    </tr>\n",
       "  </thead>\n",
       "  <tbody>\n",
       "    <tr>\n",
       "      <th>0</th>\n",
       "      <td>1</td>\n",
       "      <td>Anna Smith</td>\n",
       "      <td>59.0</td>\n",
       "      <td>F</td>\n",
       "      <td>India</td>\n",
       "      <td>2019-11-26</td>\n",
       "      <td>288.0</td>\n",
       "    </tr>\n",
       "    <tr>\n",
       "      <th>1</th>\n",
       "      <td>2</td>\n",
       "      <td>Ahmed Khan</td>\n",
       "      <td>34.0</td>\n",
       "      <td>female</td>\n",
       "      <td>USA</td>\n",
       "      <td>2021-06-05</td>\n",
       "      <td>214.0</td>\n",
       "    </tr>\n",
       "    <tr>\n",
       "      <th>2</th>\n",
       "      <td>3</td>\n",
       "      <td>Fatima Noor</td>\n",
       "      <td>22.0</td>\n",
       "      <td>Male</td>\n",
       "      <td>Pakistan</td>\n",
       "      <td>2021-01-30</td>\n",
       "      <td>136.0</td>\n",
       "    </tr>\n",
       "    <tr>\n",
       "      <th>3</th>\n",
       "      <td>4</td>\n",
       "      <td>Anna Smith</td>\n",
       "      <td>46.0</td>\n",
       "      <td>M</td>\n",
       "      <td>China</td>\n",
       "      <td>2021-12-11</td>\n",
       "      <td>190.0</td>\n",
       "    </tr>\n",
       "    <tr>\n",
       "      <th>4</th>\n",
       "      <td>5</td>\n",
       "      <td>Li Wei</td>\n",
       "      <td>21.0</td>\n",
       "      <td>M</td>\n",
       "      <td>USA</td>\n",
       "      <td>2021-05-24</td>\n",
       "      <td>209.0</td>\n",
       "    </tr>\n",
       "    <tr>\n",
       "      <th>...</th>\n",
       "      <td>...</td>\n",
       "      <td>...</td>\n",
       "      <td>...</td>\n",
       "      <td>...</td>\n",
       "      <td>...</td>\n",
       "      <td>...</td>\n",
       "      <td>...</td>\n",
       "    </tr>\n",
       "    <tr>\n",
       "      <th>995</th>\n",
       "      <td>996</td>\n",
       "      <td>David Lee</td>\n",
       "      <td>49.0</td>\n",
       "      <td>Female</td>\n",
       "      <td>Pakistan</td>\n",
       "      <td>2020-04-04</td>\n",
       "      <td>162.0</td>\n",
       "    </tr>\n",
       "    <tr>\n",
       "      <th>996</th>\n",
       "      <td>997</td>\n",
       "      <td>John Smith</td>\n",
       "      <td>35.0</td>\n",
       "      <td>F</td>\n",
       "      <td>Pakistan</td>\n",
       "      <td>2020-06-13</td>\n",
       "      <td>412.0</td>\n",
       "    </tr>\n",
       "    <tr>\n",
       "      <th>997</th>\n",
       "      <td>998</td>\n",
       "      <td>Anna Smith</td>\n",
       "      <td>23.0</td>\n",
       "      <td>male</td>\n",
       "      <td>India</td>\n",
       "      <td>2019-12-27</td>\n",
       "      <td>NaN</td>\n",
       "    </tr>\n",
       "    <tr>\n",
       "      <th>998</th>\n",
       "      <td>999</td>\n",
       "      <td>Ahmed Khan</td>\n",
       "      <td>NaN</td>\n",
       "      <td>M</td>\n",
       "      <td>China</td>\n",
       "      <td>2019-04-02</td>\n",
       "      <td>413.0</td>\n",
       "    </tr>\n",
       "    <tr>\n",
       "      <th>999</th>\n",
       "      <td>1000</td>\n",
       "      <td>David Lee</td>\n",
       "      <td>36.0</td>\n",
       "      <td>Male</td>\n",
       "      <td>china</td>\n",
       "      <td>2021-08-01</td>\n",
       "      <td>352.0</td>\n",
       "    </tr>\n",
       "  </tbody>\n",
       "</table>\n",
       "<p>1000 rows × 7 columns</p>\n",
       "</div>"
      ],
      "text/plain": [
       "     CustomerID         Name   Age  Gender   Country   Join_Date  \\\n",
       "0             1   Anna Smith  59.0       F     India  2019-11-26   \n",
       "1             2   Ahmed Khan  34.0  female       USA  2021-06-05   \n",
       "2             3  Fatima Noor  22.0    Male  Pakistan  2021-01-30   \n",
       "3             4   Anna Smith  46.0       M     China  2021-12-11   \n",
       "4             5       Li Wei  21.0       M       USA  2021-05-24   \n",
       "..          ...          ...   ...     ...       ...         ...   \n",
       "995         996    David Lee  49.0  Female  Pakistan  2020-04-04   \n",
       "996         997   John Smith  35.0       F  Pakistan  2020-06-13   \n",
       "997         998   Anna Smith  23.0    male     India  2019-12-27   \n",
       "998         999   Ahmed Khan   NaN       M     China  2019-04-02   \n",
       "999        1000    David Lee  36.0    Male     china  2021-08-01   \n",
       "\n",
       "     Purchase_Amount  \n",
       "0              288.0  \n",
       "1              214.0  \n",
       "2              136.0  \n",
       "3              190.0  \n",
       "4              209.0  \n",
       "..               ...  \n",
       "995            162.0  \n",
       "996            412.0  \n",
       "997              NaN  \n",
       "998            413.0  \n",
       "999            352.0  \n",
       "\n",
       "[1000 rows x 7 columns]"
      ]
     },
     "execution_count": 22,
     "metadata": {},
     "output_type": "execute_result"
    }
   ],
   "source": [
    "df=pd.read_csv(\"sample_customer_data.csv\")\n",
    "df"
   ]
  },
  {
   "cell_type": "markdown",
   "id": "74be017d-a795-4cd5-b750-d0c4538cf91e",
   "metadata": {},
   "source": [
    "#### BASIC OVERVIEW"
   ]
  },
  {
   "cell_type": "code",
   "execution_count": 23,
   "id": "5f252576-0465-492b-8398-be8884e4a8fd",
   "metadata": {},
   "outputs": [
    {
     "name": "stdout",
     "output_type": "stream",
     "text": [
      "\n",
      "Top 10 rows:\n",
      "    CustomerID         Name   Age  Gender   Country   Join_Date  \\\n",
      "0           1   Anna Smith  59.0       F     India  2019-11-26   \n",
      "1           2   Ahmed Khan  34.0  female       USA  2021-06-05   \n",
      "2           3  Fatima Noor  22.0    Male  Pakistan  2021-01-30   \n",
      "3           4   Anna Smith  46.0       M     China  2021-12-11   \n",
      "4           5       Li Wei  21.0       M       USA  2021-05-24   \n",
      "\n",
      "   Purchase_Amount  \n",
      "0            288.0  \n",
      "1            214.0  \n",
      "2            136.0  \n",
      "3            190.0  \n",
      "4            209.0  \n",
      "\n",
      "Last 10 rows:\n",
      "      CustomerID        Name   Age  Gender   Country   Join_Date  \\\n",
      "995         996   David Lee  49.0  Female  Pakistan  2020-04-04   \n",
      "996         997  John Smith  35.0       F  Pakistan  2020-06-13   \n",
      "997         998  Anna Smith  23.0    male     India  2019-12-27   \n",
      "998         999  Ahmed Khan   NaN       M     China  2019-04-02   \n",
      "999        1000   David Lee  36.0    Male     china  2021-08-01   \n",
      "\n",
      "     Purchase_Amount  \n",
      "995            162.0  \n",
      "996            412.0  \n",
      "997              NaN  \n",
      "998            413.0  \n",
      "999            352.0  \n",
      "\n",
      "Sample 10 rows:\n",
      "      CustomerID          Name   Age  Gender   Country   Join_Date  \\\n",
      "947         948           NaN  39.0    Male     India  2019-03-31   \n",
      "97           98     David Lee  35.0       F        us  2021-10-13   \n",
      "69           70    Anna Smith  19.0  female        us  2018-07-20   \n",
      "588         589     David Lee  32.0    male     China  2020-11-11   \n",
      "535         536  Maria Garcia  26.0       M  PAKISTAN  2021-10-22   \n",
      "\n",
      "     Purchase_Amount  \n",
      "947            244.0  \n",
      "97              66.0  \n",
      "69             481.0  \n",
      "588             88.0  \n",
      "535            144.0  \n",
      "\\Dataset size= (1000, 7)\n",
      "\n",
      "Statiscal Summary (describe):\n",
      "         CustomerID         Age  Purchase_Amount\n",
      "count  1000.000000  980.000000       980.000000\n",
      "mean    500.500000   38.582653       286.393878\n",
      "std     288.819436   12.023993       129.731222\n",
      "min       1.000000   18.000000        50.000000\n",
      "25%     250.750000   28.000000       177.000000\n",
      "50%     500.500000   39.000000       285.500000\n",
      "75%     750.250000   49.000000       400.000000\n",
      "max    1000.000000   59.000000       500.000000\n",
      "info Data\n",
      "<class 'pandas.core.frame.DataFrame'>\n",
      "RangeIndex: 1000 entries, 0 to 999\n",
      "Data columns (total 7 columns):\n",
      " #   Column           Non-Null Count  Dtype  \n",
      "---  ------           --------------  -----  \n",
      " 0   CustomerID       1000 non-null   int64  \n",
      " 1   Name             980 non-null    object \n",
      " 2   Age              980 non-null    float64\n",
      " 3   Gender           1000 non-null   object \n",
      " 4   Country          1000 non-null   object \n",
      " 5   Join_Date        1000 non-null   object \n",
      " 6   Purchase_Amount  980 non-null    float64\n",
      "dtypes: float64(2), int64(1), object(4)\n",
      "memory usage: 54.8+ KB\n"
     ]
    }
   ],
   "source": [
    "def basic_overview(df):\n",
    "    print('\\nTop 10 rows:\\n', df.head(5))\n",
    "    print('\\nLast 10 rows:\\n', df.tail(5))\n",
    "    print('\\nSample 10 rows:\\n', df.sample(5))\n",
    "    print('\\Dataset size=',df.shape)\n",
    "    print('\\nStatiscal Summary (describe):\\n',df.describe())\n",
    "    print('info Data')\n",
    "    df.info()\n",
    "basic_overview(df)"
   ]
  },
  {
   "cell_type": "markdown",
   "id": "83f6b1c6-c4ab-4fd4-af09-6d558e7e3147",
   "metadata": {},
   "source": [
    "#### CHECK MISSING VALUE"
   ]
  },
  {
   "cell_type": "code",
   "execution_count": 24,
   "id": "d4308dc6-317e-4bed-9abc-172a11868945",
   "metadata": {},
   "outputs": [
    {
     "name": "stdout",
     "output_type": "stream",
     "text": [
      "Check Missing Value\n",
      "CustomerID: 0.00% (0)\n",
      "Name: 2.00% (20)\n",
      "Age: 2.00% (20)\n",
      "Gender: 0.00% (0)\n",
      "Country: 0.00% (0)\n",
      "Join_Date: 0.00% (0)\n",
      "Purchase_Amount: 2.00% (20)\n"
     ]
    }
   ],
   "source": [
    "print(\"Check Missing Value\")\n",
    "for col in df.columns:\n",
    "    missing_value=df[col].isna().sum()\n",
    "    percentage=missing_value*100/len(df)\n",
    "    print(\"%s: %.2f%% (%d)\" % (col, percentage, missing_value))"
   ]
  },
  {
   "cell_type": "markdown",
   "id": "ce716405-e327-4c65-a4b6-74c061677fe6",
   "metadata": {},
   "source": [
    "#### HANDLE MISSING VALUE"
   ]
  },
  {
   "cell_type": "code",
   "execution_count": 25,
   "id": "2083bddf-13c2-4069-a3ce-4fde015475f4",
   "metadata": {},
   "outputs": [
    {
     "name": "stdout",
     "output_type": "stream",
     "text": [
      "Remove rows where name is miising...\n",
      "Fill age missing value with median...\n",
      "Fill Purchase_Amount missing values with mean....\n",
      "\n",
      "Missing Values Summary:\n",
      "CustomerID         0\n",
      "Name               0\n",
      "Age                0\n",
      "Gender             0\n",
      "Country            0\n",
      "Join_Date          0\n",
      "Purchase_Amount    0\n",
      "dtype: int64\n"
     ]
    }
   ],
   "source": [
    "#Remove rows where name is miising\n",
    "print(\"Remove rows where name is miising...\")\n",
    "df=df.dropna(subset=[\"Name\"])\n",
    "\n",
    "#Fill age missing value with median\n",
    "print(\"Fill age missing value with median...\")\n",
    "df[\"Age\"]=df['Age'].fillna(df['Age'].median())\n",
    "\n",
    "#Fill Purchase_Amount missing values with mean\n",
    "print(\"Fill Purchase_Amount missing values with mean....\")\n",
    "df[\"Purchase_Amount\"]=df[\"Purchase_Amount\"].fillna(df['Purchase_Amount'].mean())\n",
    "\n",
    "# Final check for missing values\n",
    "print(\"\\nMissing Values Summary:\")\n",
    "print(df.isna().sum())"
   ]
  },
  {
   "cell_type": "code",
   "execution_count": 26,
   "id": "f118244b-42a9-4729-95fc-84d7cba8a2d1",
   "metadata": {},
   "outputs": [
    {
     "data": {
      "text/plain": [
       "(980, 7)"
      ]
     },
     "execution_count": 26,
     "metadata": {},
     "output_type": "execute_result"
    }
   ],
   "source": [
    "df.shape"
   ]
  },
  {
   "cell_type": "markdown",
   "id": "9229aa67-9f6b-4010-b375-9422933829fe",
   "metadata": {},
   "source": [
    "#### CHECK DUPLICATED AND REMOVE DUPLICATED"
   ]
  },
  {
   "cell_type": "code",
   "execution_count": 27,
   "id": "23059db0-cb93-4db8-98d8-294a7416c245",
   "metadata": {},
   "outputs": [
    {
     "data": {
      "text/plain": [
       "np.int64(0)"
      ]
     },
     "execution_count": 27,
     "metadata": {},
     "output_type": "execute_result"
    }
   ],
   "source": [
    "# check Duplicates\n",
    "df.duplicated().sum()"
   ]
  },
  {
   "cell_type": "markdown",
   "id": "6779bee1-589c-4b94-bc29-2aecfee71bd9",
   "metadata": {},
   "source": [
    "#### Standardize Columns"
   ]
  },
  {
   "cell_type": "markdown",
   "id": "2a74ba9e-6ead-457c-8c28-85296693e518",
   "metadata": {},
   "source": [
    "##### Gender columns"
   ]
  },
  {
   "cell_type": "code",
   "execution_count": 28,
   "id": "986d1f31-fdd0-453c-a6aa-686daf97ece6",
   "metadata": {},
   "outputs": [
    {
     "data": {
      "text/plain": [
       "array(['F', 'female', 'Male', 'M', 'Female', 'male'], dtype=object)"
      ]
     },
     "execution_count": 28,
     "metadata": {},
     "output_type": "execute_result"
    }
   ],
   "source": [
    "df['Gender'].unique()"
   ]
  },
  {
   "cell_type": "code",
   "execution_count": 29,
   "id": "01628a54-89a7-48a4-ada3-c3cbe488efe8",
   "metadata": {},
   "outputs": [
    {
     "data": {
      "text/plain": [
       "Gender\n",
       "female    521\n",
       "male      459\n",
       "Name: count, dtype: int64"
      ]
     },
     "execution_count": 29,
     "metadata": {},
     "output_type": "execute_result"
    }
   ],
   "source": [
    "df['Gender']=df['Gender'].str.strip().str.lower()\n",
    "df['Gender']=df['Gender'].replace({\"m\":\"male\",\"f\":\"female\"})\n",
    "df['Gender'].value_counts()"
   ]
  },
  {
   "cell_type": "markdown",
   "id": "5cee20d2-9de6-4a6f-9377-e0ff6f14fa15",
   "metadata": {},
   "source": [
    "##### Country columns"
   ]
  },
  {
   "cell_type": "code",
   "execution_count": 30,
   "id": "0f224d50-0da8-4b3e-bfe2-290b57d8113a",
   "metadata": {},
   "outputs": [
    {
     "data": {
      "text/plain": [
       "array(['India', 'USA', 'Pakistan', 'China', 'china', 'PAKISTAN', 'us',\n",
       "       'U.S.A'], dtype=object)"
      ]
     },
     "execution_count": 30,
     "metadata": {},
     "output_type": "execute_result"
    }
   ],
   "source": [
    "df['Country'].unique()"
   ]
  },
  {
   "cell_type": "code",
   "execution_count": 31,
   "id": "90aa5100-1ccb-4155-b4e4-6880f66ea943",
   "metadata": {},
   "outputs": [
    {
     "data": {
      "text/plain": [
       "Country\n",
       "usa         366\n",
       "pakistan    265\n",
       "china       233\n",
       "india       116\n",
       "Name: count, dtype: int64"
      ]
     },
     "execution_count": 31,
     "metadata": {},
     "output_type": "execute_result"
    }
   ],
   "source": [
    "df['Country']=df['Country'].str.strip().str.lower()\n",
    "df['Country']=df['Country'].replace({\n",
    "                        \"us\": \"usa\",\n",
    "                        \"u.s.a\": \"usa\",\n",
    "                        \"pakistan\": \"pakistan\",\n",
    "                        \"pakistan\": \"pakistan\",\n",
    "                        \"china\": \"china\",\n",
    "                        \"india\":\"india\"})\n",
    "df['Country'].value_counts()"
   ]
  },
  {
   "cell_type": "markdown",
   "id": "63690517-8b4f-413e-8e4b-621b4e409f22",
   "metadata": {},
   "source": [
    "#### change type of columns "
   ]
  },
  {
   "cell_type": "code",
   "execution_count": 32,
   "id": "c33d8158-e142-477e-bfc4-9ee51eeebb43",
   "metadata": {},
   "outputs": [],
   "source": [
    "#Convert Join_Date to datetime\n",
    "df[\"Join_Date\"] = pd.to_datetime(df[\"Join_Date\"], errors=\"coerce\")"
   ]
  },
  {
   "cell_type": "code",
   "execution_count": 33,
   "id": "ebb97d24-a426-4ebd-b66b-bb7c2f653e4c",
   "metadata": {},
   "outputs": [
    {
     "data": {
      "text/plain": [
       "['CustomerID',\n",
       " 'Name',\n",
       " 'Age',\n",
       " 'Gender',\n",
       " 'Country',\n",
       " 'Join_Date',\n",
       " 'Purchase_Amount']"
      ]
     },
     "execution_count": 33,
     "metadata": {},
     "output_type": "execute_result"
    }
   ],
   "source": [
    "df.columns.tolist()"
   ]
  },
  {
   "cell_type": "markdown",
   "id": "3393a6ff-c683-48cb-b756-d59b92944054",
   "metadata": {},
   "source": [
    "#### Rename Cloumns"
   ]
  },
  {
   "cell_type": "code",
   "execution_count": 34,
   "id": "e7f3df10-84dc-4b88-a647-625d15c8d667",
   "metadata": {},
   "outputs": [],
   "source": [
    "# Rename columns\n",
    "df = df.rename(columns={\n",
    "    \"CustomerID\": \"Customer ID\",\n",
    "    \"Name\": \"Customer Name\",\n",
    "    \"Country\": \"Country Name\"\n",
    "})"
   ]
  },
  {
   "cell_type": "code",
   "execution_count": 35,
   "id": "dbe372a8-6f3d-42ce-82b2-be34e58f9b27",
   "metadata": {},
   "outputs": [
    {
     "data": {
      "text/plain": [
       "['Customer ID',\n",
       " 'Customer Name',\n",
       " 'Age',\n",
       " 'Gender',\n",
       " 'Country Name',\n",
       " 'Join_Date',\n",
       " 'Purchase_Amount']"
      ]
     },
     "execution_count": 35,
     "metadata": {},
     "output_type": "execute_result"
    }
   ],
   "source": [
    "df.columns.tolist()"
   ]
  },
  {
   "cell_type": "markdown",
   "id": "dfcb4af7-54a4-470b-a7d5-7d09bdc84ff3",
   "metadata": {},
   "source": [
    "#### Clean columns"
   ]
  },
  {
   "cell_type": "code",
   "execution_count": 36,
   "id": "2c0f8b7f-2a2e-4014-9ebf-643241711e02",
   "metadata": {},
   "outputs": [
    {
     "data": {
      "text/plain": [
       "Index(['customer_id', 'customer_name', 'age', 'gender', 'country_name',\n",
       "       'join_date', 'purchase_amount'],\n",
       "      dtype='object')"
      ]
     },
     "execution_count": 36,
     "metadata": {},
     "output_type": "execute_result"
    }
   ],
   "source": [
    "df.columns = df.columns.str.lower().str.replace(\" \", \"_\")\n",
    "df.columns"
   ]
  },
  {
   "cell_type": "code",
   "execution_count": 37,
   "id": "db301abe-f0d4-43f2-b13c-aac10e205a8a",
   "metadata": {},
   "outputs": [
    {
     "name": "stdout",
     "output_type": "stream",
     "text": [
      "\n",
      "After Cleaning:\n",
      "<class 'pandas.core.frame.DataFrame'>\n",
      "Index: 980 entries, 0 to 999\n",
      "Data columns (total 7 columns):\n",
      " #   Column           Non-Null Count  Dtype         \n",
      "---  ------           --------------  -----         \n",
      " 0   customer_id      980 non-null    int64         \n",
      " 1   customer_name    980 non-null    object        \n",
      " 2   age              980 non-null    float64       \n",
      " 3   gender           980 non-null    object        \n",
      " 4   country_name     980 non-null    object        \n",
      " 5   join_date        980 non-null    datetime64[ns]\n",
      " 6   purchase_amount  980 non-null    float64       \n",
      "dtypes: datetime64[ns](1), float64(2), int64(1), object(3)\n",
      "memory usage: 61.2+ KB\n",
      "None\n",
      "   customer_id customer_name   age  gender country_name  join_date  \\\n",
      "0            1    Anna Smith  59.0  female        india 2019-11-26   \n",
      "1            2    Ahmed Khan  34.0  female          usa 2021-06-05   \n",
      "2            3   Fatima Noor  22.0    male     pakistan 2021-01-30   \n",
      "3            4    Anna Smith  46.0    male        china 2021-12-11   \n",
      "4            5        Li Wei  21.0    male          usa 2021-05-24   \n",
      "\n",
      "   purchase_amount  \n",
      "0            288.0  \n",
      "1            214.0  \n",
      "2            136.0  \n",
      "3            190.0  \n",
      "4            209.0  \n"
     ]
    }
   ],
   "source": [
    "# last Check\n",
    "print(\"\\nAfter Cleaning:\")\n",
    "print(df.info())\n",
    "print(df.head())"
   ]
  },
  {
   "cell_type": "code",
   "execution_count": 38,
   "id": "1f4bd253-040d-42c8-b3c7-0c464f1f2e4f",
   "metadata": {},
   "outputs": [
    {
     "name": "stdout",
     "output_type": "stream",
     "text": [
      "\n",
      "Cleaned dataset saved as 'cleaned_customer_data.csv'\n"
     ]
    }
   ],
   "source": [
    "df.to_csv(\"cleaned_customer_data.csv\", index=False)\n",
    "print(\"\\nCleaned dataset saved as 'cleaned_customer_data.csv'\")"
   ]
  },
  {
   "cell_type": "code",
   "execution_count": null,
   "id": "5d5ec66a-fe3b-4c33-bdea-37e682b872f6",
   "metadata": {},
   "outputs": [],
   "source": []
  },
  {
   "cell_type": "code",
   "execution_count": null,
   "id": "d41aaeed-a345-4621-bf7a-3a2a328c5bd0",
   "metadata": {},
   "outputs": [],
   "source": []
  },
  {
   "cell_type": "code",
   "execution_count": null,
   "id": "733f2b58-ce0a-4a70-8c88-45c9ac5f64df",
   "metadata": {},
   "outputs": [],
   "source": []
  },
  {
   "cell_type": "code",
   "execution_count": null,
   "id": "82ed390d-68ca-48e2-b498-cce9dd021006",
   "metadata": {},
   "outputs": [],
   "source": []
  }
 ],
 "metadata": {
  "kernelspec": {
   "display_name": "Python 3 (ipykernel)",
   "language": "python",
   "name": "python3"
  },
  "language_info": {
   "codemirror_mode": {
    "name": "ipython",
    "version": 3
   },
   "file_extension": ".py",
   "mimetype": "text/x-python",
   "name": "python",
   "nbconvert_exporter": "python",
   "pygments_lexer": "ipython3",
   "version": "3.13.1"
  }
 },
 "nbformat": 4,
 "nbformat_minor": 5
}
